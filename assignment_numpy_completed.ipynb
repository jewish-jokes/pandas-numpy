{
 "cells": [
  {
   "cell_type": "markdown",
   "id": "d3df79dd",
   "metadata": {
    "tags": []
   },
   "source": [
    "## Упражнения по библиотеке Numpy"
   ]
  },
  {
   "cell_type": "code",
   "execution_count": 1,
   "id": "76b9c43b",
   "metadata": {},
   "outputs": [],
   "source": [
    "import numpy as np"
   ]
  },
  {
   "cell_type": "markdown",
   "id": "03727b7c",
   "metadata": {},
   "source": [
    "**1.** Дан случайный массив, поменять знак у элементов, значения которых между 3 и 8"
   ]
  },
  {
   "cell_type": "code",
   "execution_count": 45,
   "id": "b89a7523",
   "metadata": {
    "tags": []
   },
   "outputs": [
    {
     "name": "stdout",
     "output_type": "stream",
     "text": [
      "[4 3 5 8 1]\n",
      "[-4  3 -5  8  1]\n"
     ]
    }
   ],
   "source": [
    "import numpy as np\n",
    "random_numbers = np.random.randint(0,11,5)\n",
    "print(random_numbers)\n",
    "for i in range(0,len(random_numbers)):\n",
    "    if ((random_numbers[i]>3) & (random_numbers[i]<8)):\n",
    "        random_numbers[i] = -abs(random_numbers[i])\n",
    "print(random_numbers)"
   ]
  },
  {
   "cell_type": "markdown",
   "id": "5fa4abda",
   "metadata": {},
   "source": [
    "**2.** Заменить максимальный элемент случайного массива на 0"
   ]
  },
  {
   "cell_type": "code",
   "execution_count": 49,
   "id": "f2788a6e",
   "metadata": {
    "tags": []
   },
   "outputs": [
    {
     "name": "stdout",
     "output_type": "stream",
     "text": [
      "[80 24 98 82 98 58 88 32 33 64]\n",
      "[80 24  0 82  0 58 88 32 33 64]\n"
     ]
    }
   ],
   "source": [
    "import numpy as np\n",
    "random_numbers = np.random.randint(0,101,10)\n",
    "print(random_numbers)\n",
    "random_numbers [random_numbers == np.max(random_numbers)] = 0\n",
    "print(random_numbers)"
   ]
  },
  {
   "cell_type": "markdown",
   "id": "3cac656b",
   "metadata": {},
   "source": [
    "**3.** Построить прямое произведение массивов (все комбинации с каждым элементом). На вход подается двумерный массив"
   ]
  },
  {
   "cell_type": "code",
   "execution_count": 66,
   "id": "3396b764",
   "metadata": {
    "tags": []
   },
   "outputs": [
    {
     "name": "stdout",
     "output_type": "stream",
     "text": [
      "[[6 2 7]\n",
      " [8 3 2]]\n",
      "[array([48, 18, 12]), array([16,  6,  4]), array([56, 21, 14])]\n"
     ]
    }
   ],
   "source": [
    "import numpy as np\n",
    "arr = np.array([np.random.randint(0,11,3),np.random.randint(0,11,3)]) \n",
    "print(arr)\n",
    "result = list()\n",
    "for i in range(0,len(arr[0])):\n",
    "    result.append(arr[0][i]*arr[1])\n",
    "print(result)"
   ]
  },
  {
   "cell_type": "markdown",
   "id": "674c9354",
   "metadata": {},
   "source": [
    "**4.** Даны 2 массива A (8x3) и B (2x2). Найти строки в A, которые содержат элементы из каждой строки в B, независимо от порядка элементов в B"
   ]
  },
  {
   "cell_type": "code",
   "execution_count": 93,
   "id": "cb664782",
   "metadata": {
    "tags": []
   },
   "outputs": [
    {
     "name": "stdout",
     "output_type": "stream",
     "text": [
      "[[ 2  9  4]\n",
      " [ 1  9 10]\n",
      " [ 5 10  3]\n",
      " [ 1 10 10]\n",
      " [ 2  3  8]\n",
      " [ 6  7  8]\n",
      " [ 9  3 10]\n",
      " [ 5  3  6]]\n",
      "[[3 8]\n",
      " [5 5]]\n",
      "[[ 5 10  3]\n",
      " [ 5  3  6]]\n"
     ]
    }
   ],
   "source": [
    "import numpy as np\n",
    "arr_A = np.random.randint(0, 11, size=(8, 3))\n",
    "arr_B = np.random.randint(0, 11, size=(2, 2))\n",
    "print(arr_A)\n",
    "print(arr_B)\n",
    "mask1 = np.isin(arr_A, arr_B[0])\n",
    "mask2 = np.isin(arr_A, arr_B[1])\n",
    "result = arr_A[np.logical_and(np.any(mask1, axis=1), np.any(mask2, axis=1))]\n",
    "print(result)"
   ]
  },
  {
   "cell_type": "markdown",
   "id": "fa46533b",
   "metadata": {},
   "source": [
    "**5.** Дана 10x3 матрица, найти строки из неравных значений (например строка [2,2,3] остается, строка [3,3,3] удаляется)"
   ]
  },
  {
   "cell_type": "code",
   "execution_count": 118,
   "id": "fa545b23",
   "metadata": {
    "tags": []
   },
   "outputs": [
    {
     "name": "stdout",
     "output_type": "stream",
     "text": [
      "[[0 1 1]\n",
      " [0 2 2]\n",
      " [1 0 2]\n",
      " [0 2 1]\n",
      " [1 1 1]\n",
      " [0 1 2]\n",
      " [0 0 1]\n",
      " [2 1 0]\n",
      " [2 1 1]\n",
      " [0 0 0]]\n",
      "[array([0, 1, 1]), array([0, 2, 2]), array([1, 0, 2]), array([0, 2, 1]), array([0, 1, 2]), array([0, 0, 1]), array([2, 1, 0]), array([2, 1, 1])]\n"
     ]
    }
   ],
   "source": [
    "import numpy as np\n",
    "arr_A = np.random.randint(0, 3, size=(10, 3))\n",
    "print(arr_A)\n",
    "result = list()\n",
    "for i in range(arr_A.shape[0]):\n",
    "    if ( not (np.all(arr_A[i]==arr_A[i][0]))):\n",
    "        result.append(arr_A[i])\n",
    "print(result)"
   ]
  },
  {
   "cell_type": "markdown",
   "id": "28f0d116",
   "metadata": {},
   "source": [
    "**6.** Дан двумерный массив. Удалить те строки, которые повторяются"
   ]
  },
  {
   "cell_type": "code",
   "execution_count": 123,
   "id": "83d2c0b7",
   "metadata": {
    "tags": []
   },
   "outputs": [
    {
     "name": "stdout",
     "output_type": "stream",
     "text": [
      "[[1 1]\n",
      " [1 1]\n",
      " [0 0]\n",
      " [0 1]\n",
      " [1 1]\n",
      " [1 0]\n",
      " [1 1]\n",
      " [0 1]\n",
      " [0 0]\n",
      " [1 1]]\n",
      "[[0 0]\n",
      " [0 1]\n",
      " [1 0]\n",
      " [1 1]]\n"
     ]
    }
   ],
   "source": [
    "import numpy as np\n",
    "arr_A = np.random.randint(0, 2, size=(10, 2))\n",
    "print(arr_A)\n",
    "print(np.unique(arr_A,axis = 0))"
   ]
  },
  {
   "cell_type": "markdown",
   "id": "6daa9e37",
   "metadata": {},
   "source": [
    "______\n",
    "______"
   ]
  },
  {
   "cell_type": "markdown",
   "id": "cfbfcaff",
   "metadata": {},
   "source": [
    "Для каждой из следующих задач (1-5) нужно привести 2 реализации – одна без использования numpy (cчитайте, что там, где на входе или выходе должны быть numpy array, будут просто списки), а вторая полностью векторизованная с использованием numpy (без использования питоновских циклов/map/list comprehension).\n",
    "\n",
    "\n",
    "__Замечание 1.__ Можно считать, что все указанные объекты непустые (к примеру, в __задаче 1__ на диагонали матрицы есть ненулевые элементы).\n",
    "\n",
    "__Замечание 2.__ Для большинства задач решение занимает не больше 1-2 строк."
   ]
  },
  {
   "cell_type": "markdown",
   "id": "673cac7f",
   "metadata": {},
   "source": [
    "___"
   ]
  },
  {
   "cell_type": "markdown",
   "id": "ca6f585e",
   "metadata": {},
   "source": [
    "* __Задача 1__: Подсчитать произведение ненулевых элементов на диагонали прямоугольной матрицы.  \n",
    " Например, для X = np.array([[1, 0, 1], [2, 0, 2], [3, 0, 3], [4, 4, 4]]) ответ 3."
   ]
  },
  {
   "cell_type": "code",
   "execution_count": 145,
   "id": "065862fc",
   "metadata": {
    "tags": []
   },
   "outputs": [
    {
     "name": "stdout",
     "output_type": "stream",
     "text": [
      "[[5 5 9]\n",
      " [7 3 8]\n",
      " [9 2 6]\n",
      " [9 1 8]]\n",
      "90\n",
      "90\n"
     ]
    }
   ],
   "source": [
    "import numpy as np\n",
    "arr = np.random.randint(0, 11, size=(4, 3))\n",
    "print(arr)          \n",
    "# numpy\n",
    "diag = np.diag(arr)\n",
    "print(np.prod(diag[diag!=0]))\n",
    "# python only\n",
    "product = 1\n",
    "for i in range(min(len(arr), len(arr[0]))):\n",
    "    if arr[i][i] != 0:\n",
    "         product *= arr[i][i]\n",
    "print(product)"
   ]
  },
  {
   "cell_type": "markdown",
   "id": "9fc51d41",
   "metadata": {},
   "source": [
    "* __Задача 2__: Даны два вектора x и y. Проверить, задают ли они одно и то же мультимножество.  \n",
    "  Например, для x = np.array([1, 2, 2, 4]), y = np.array([4, 2, 1, 2]) ответ True."
   ]
  },
  {
   "cell_type": "code",
   "execution_count": 156,
   "id": "a809e02f",
   "metadata": {
    "tags": []
   },
   "outputs": [
    {
     "name": "stdout",
     "output_type": "stream",
     "text": [
      "True\n",
      "True\n"
     ]
    }
   ],
   "source": [
    "x = np.array([1, 2, 2, 4])\n",
    "y = np.array([4, 2, 1, 2])\n",
    "# numpy\n",
    "print(np.array_equal(np.sort(x), np.sort(y)))\n",
    "# python only\n",
    "x = [1, 2, 2, 4]\n",
    "y = [4, 2, 1, 2]\n",
    "sorted_x = sorted(x)\n",
    "sorted_y = sorted(y)\n",
    "result = True\n",
    "if len(sorted_y) != len(sorted_x):\n",
    "       result = False\n",
    "for i in range(len(sorted_x)):\n",
    "    if sorted_x[i] != sorted_y[i]:\n",
    "        result = False\n",
    "print(result)"
   ]
  },
  {
   "cell_type": "markdown",
   "id": "b9c185c7",
   "metadata": {},
   "source": [
    "* __Задача 3__: Найти максимальный элемент в векторе x среди элементов, перед которыми стоит ноль. \n",
    " Например, для x = np.array([6, 2, 0, 3, 0, 0, 5, 7, 0]) ответ 5."
   ]
  },
  {
   "cell_type": "code",
   "execution_count": 172,
   "id": "b57df008",
   "metadata": {
    "tags": []
   },
   "outputs": [
    {
     "name": "stdout",
     "output_type": "stream",
     "text": [
      "9\n",
      "9\n"
     ]
    }
   ],
   "source": [
    "# numpy\n",
    "x = np.array([6, 2, 0, 3, 0, 0, 5, 7, 0, 9])\n",
    "mask = np.hstack(([False], x[:-1] == 0))\n",
    "max_elem = np.max(x[mask])\n",
    "print(max_elem)\n",
    "# python only\n",
    "x = [6, 2, 0, 3, 0, 0, 5, 7, 0, 9]\n",
    "max_elem = None\n",
    "for i in range(1, len(x)):\n",
    "    if x[i-1] == 0 and (max_elem is None or x[i] > max_elem):\n",
    "        max_elem = x[i]\n",
    "print(max_elem)"
   ]
  },
  {
   "cell_type": "markdown",
   "id": "480be4ce",
   "metadata": {},
   "source": [
    "* __Задача 4__: Реализовать кодирование длин серий (Run-length encoding). Для некоторого вектора x необходимо вернуть кортеж из двух векторов одинаковой длины. Первый содержит числа, а второй - сколько раз их нужно повторить.  \n",
    " Например, для x = np.array([2, 2, 2, 3, 3, 3, 5]) ответ (np.array([2, 3, 5]), np.array([3, 3, 1]))."
   ]
  },
  {
   "cell_type": "code",
   "execution_count": 191,
   "id": "3c592124",
   "metadata": {
    "tags": []
   },
   "outputs": [
    {
     "name": "stdout",
     "output_type": "stream",
     "text": [
      "[2 3 5] [3 3 1]\n",
      "[2, 3, 5] [3, 3, 1]\n"
     ]
    }
   ],
   "source": [
    "# numpy\n",
    "x = np.array([2, 2, 2, 3, 3, 3, 5])\n",
    "vals, counts = np.unique(x, return_counts=True)\n",
    "print(vals, counts)\n",
    "# python only\n",
    "x = [2, 2, 2, 3, 3, 3, 5]\n",
    "vals = []\n",
    "counts = []\n",
    "for val in x:\n",
    "        if val not in vals:\n",
    "            vals.append(val)\n",
    "            counts.append(1)\n",
    "        else:\n",
    "            idx = vals.index(val)\n",
    "            counts[idx] += 1\n",
    "print(vals, counts)"
   ]
  },
  {
   "cell_type": "markdown",
   "id": "077532ec",
   "metadata": {},
   "source": [
    "* __Задача 5__: Даны две выборки объектов - X и Y. Вычислить матрицу евклидовых расстояний между объектами. Сравните с функцией scipy.spatial.distance.cdist по скорости работы."
   ]
  },
  {
   "cell_type": "code",
   "execution_count": 202,
   "id": "1e807797",
   "metadata": {
    "tags": []
   },
   "outputs": [
    {
     "name": "stdout",
     "output_type": "stream",
     "text": [
      "[[12.84523258  6.4807407  11.09053651]\n",
      " [ 4.69041576  6.55743852  6.78232998]\n",
      " [ 8.71779789  9.43398113  7.07106781]]\n",
      "[[12.84523258  6.4807407  11.09053651]\n",
      " [ 4.69041576  6.55743852  6.78232998]\n",
      " [ 8.71779789  9.43398113  7.07106781]]\n",
      "43.6 µs ± 7.59 µs per loop (mean ± std. dev. of 7 runs, 10,000 loops each)\n",
      "12.9 µs ± 821 ns per loop (mean ± std. dev. of 7 runs, 100,000 loops each)\n"
     ]
    }
   ],
   "source": [
    "# numpy\n",
    "X = np.random.randint(0,11,size = (3,4))\n",
    "Y = np.random.randint(0,11,size = (3,4))\n",
    "def euclidean_distance_matrix(X, Y):\n",
    "    X_norm = (X ** 2).sum(axis=1, keepdims=True)\n",
    "    Y_norm = (Y ** 2).sum(axis=1, keepdims=True)\n",
    "    distances = np.sqrt(X_norm + Y_norm.T - 2 * np.dot(X, Y.T))\n",
    "    return distances\n",
    "print(euclidean_distance_matrix(X, Y))\n",
    "# python only\n",
    "from scipy.spatial.distance import cdist\n",
    "print(cdist(X, Y))\n",
    "%timeit euclidean_distance_matrix(X, Y)\n",
    "%timeit cdist(X, Y)"
   ]
  },
  {
   "cell_type": "markdown",
   "id": "973e8064",
   "metadata": {},
   "source": [
    "_______\n",
    "________"
   ]
  },
  {
   "cell_type": "markdown",
   "id": "1104acb7",
   "metadata": {},
   "source": [
    "* #### __Задача 6__: CrunchieMunchies __*__\n",
    "\n",
    "Вы работаете в отделе маркетинга пищевой компании MyCrunch, которая разрабатывает новый вид вкусных, полезных злаков под названием **CrunchieMunchies**.\n",
    "\n",
    "Вы хотите продемонстрировать потребителям, насколько полезны ваши хлопья по сравнению с другими ведущими брендами, поэтому вы собрали данные о питании нескольких разных конкурентов.\n",
    "\n",
    "Ваша задача - использовать вычисления Numpy для анализа этих данных и доказать, что ваши **СrunchieMunchies** - самый здоровый выбор для потребителей.\n"
   ]
  },
  {
   "cell_type": "code",
   "execution_count": 77,
   "id": "10a77f8d",
   "metadata": {},
   "outputs": [],
   "source": [
    "import numpy as np"
   ]
  },
  {
   "cell_type": "markdown",
   "id": "ab87cb03",
   "metadata": {},
   "source": [
    "1. Просмотрите файл cereal.csv. Этот файл содержит количества калорий для различных марок хлопьев. Загрузите данные из файла и сохраните их как calorie_stats."
   ]
  },
  {
   "cell_type": "code",
   "execution_count": 205,
   "id": "9681ebf2",
   "metadata": {
    "tags": []
   },
   "outputs": [
    {
     "data": {
      "text/plain": [
       "array([ 70., 120.,  70.,  50., 110., 110., 110., 130.,  90.,  90., 120.,\n",
       "       110., 120., 110., 110., 110., 100., 110., 110., 110., 100., 110.,\n",
       "       100., 100., 110., 110., 100., 120., 120., 110., 100., 110., 100.,\n",
       "       110., 120., 120., 110., 110., 110., 140., 110., 100., 110., 100.,\n",
       "       150., 150., 160., 100., 120., 140.,  90., 130., 120., 100.,  50.,\n",
       "        50., 100., 100., 120., 100.,  90., 110., 110.,  80.,  90.,  90.,\n",
       "       110., 110.,  90., 110., 140., 100., 110., 110., 100., 100., 110.])"
      ]
     },
     "execution_count": 205,
     "metadata": {},
     "output_type": "execute_result"
    }
   ],
   "source": [
    "calorie_stats = np.loadtxt(\"./data/cereal.csv\", delimiter=\",\")\n",
    "calorie_stats"
   ]
  },
  {
   "cell_type": "markdown",
   "id": "139cfbd8",
   "metadata": {},
   "source": [
    "2. В одной порции CrunchieMunchies содержится 60 калорий. Насколько выше среднее количество калорий у ваших конкурентов?\n",
    "\n",
    "Сохраните ответ в переменной average_calories и распечатайте переменную в терминале"
   ]
  },
  {
   "cell_type": "code",
   "execution_count": 208,
   "id": "7036d240",
   "metadata": {
    "tags": []
   },
   "outputs": [
    {
     "name": "stdout",
     "output_type": "stream",
     "text": [
      "106.88311688311688\n"
     ]
    }
   ],
   "source": [
    "average_calories = np.mean(calorie_stats)\n",
    "print(average_calories)"
   ]
  },
  {
   "cell_type": "markdown",
   "id": "b2ddb4cd",
   "metadata": {},
   "source": [
    "3. Корректно ли среднее количество калорий отражает распределение набора данных? Давайте отсортируем данные и посмотрим.\n",
    "\n",
    "Отсортируйте данные и сохраните результат в переменной calorie_stats_sorted. Распечатайте отсортированную информацию"
   ]
  },
  {
   "cell_type": "code",
   "execution_count": 207,
   "id": "46eeb4ed",
   "metadata": {
    "tags": []
   },
   "outputs": [
    {
     "name": "stdout",
     "output_type": "stream",
     "text": [
      "[ 50.  50.  50.  70.  70.  80.  90.  90.  90.  90.  90.  90.  90. 100.\n",
      " 100. 100. 100. 100. 100. 100. 100. 100. 100. 100. 100. 100. 100. 100.\n",
      " 100. 100. 110. 110. 110. 110. 110. 110. 110. 110. 110. 110. 110. 110.\n",
      " 110. 110. 110. 110. 110. 110. 110. 110. 110. 110. 110. 110. 110. 110.\n",
      " 110. 110. 110. 120. 120. 120. 120. 120. 120. 120. 120. 120. 120. 130.\n",
      " 130. 140. 140. 140. 150. 150. 160.]\n"
     ]
    }
   ],
   "source": [
    "calorie_stats_sorted = np.sort(calorie_stats)\n",
    "print(calorie_stats_sorted)"
   ]
  },
  {
   "cell_type": "markdown",
   "id": "4dc74116",
   "metadata": {},
   "source": [
    "4. Похоже, что большинство значений выше среднего. Давайте посмотрим, является ли медиана наиболее корректным показателем набора данных.\n",
    "\n",
    "Вычислите медиану набора данных и сохраните свой ответ в median_calories. Выведите медиану, чтобы вы могли видеть, как она сравнивается со средним значением."
   ]
  },
  {
   "cell_type": "code",
   "execution_count": 210,
   "id": "b56627c3",
   "metadata": {
    "tags": []
   },
   "outputs": [
    {
     "name": "stdout",
     "output_type": "stream",
     "text": [
      "110.0\n"
     ]
    }
   ],
   "source": [
    "median_calories = np.median(calorie_stats)\n",
    "print(median_calories)"
   ]
  },
  {
   "cell_type": "markdown",
   "id": "a63ab72f",
   "metadata": {},
   "source": [
    "5. В то время как медиана показывает, что по крайней мере половина наших значений составляет более 100 калорий, было бы более впечатляюще показать, что значительная часть конкурентов имеет более высокое количество калорий, чем CrunchieMunchies.\n",
    "\n",
    "Рассчитайте различные процентили и распечатайте их, пока не найдете наименьший процентиль, превышающий 60 калорий. Сохраните это значение в переменной nth_percentile."
   ]
  },
  {
   "cell_type": "code",
   "execution_count": 211,
   "id": "fe80ce03",
   "metadata": {
    "tags": []
   },
   "outputs": [
    {
     "name": "stdout",
     "output_type": "stream",
     "text": [
      "70.0\n"
     ]
    }
   ],
   "source": [
    "percentiles = np.arange(1, 101)\n",
    "for p in percentiles:\n",
    "    nth_percentile = np.percentile(calorie_stats, p)\n",
    "    if nth_percentile > 60:\n",
    "        break\n",
    "print(nth_percentile)"
   ]
  },
  {
   "cell_type": "markdown",
   "id": "a2a3c5aa",
   "metadata": {},
   "source": [
    "6. Хотя процентиль показывает нам, что у большинства конкурентов количество калорий намного выше, это неудобная концепция для использования в маркетинговых материалах.\n",
    "\n",
    "Вместо этого давайте подсчитаем процент хлопьев, в которых содержится более 60 калорий на порцию. Сохраните свой ответ в переменной more_calories и распечатайте его"
   ]
  },
  {
   "cell_type": "code",
   "execution_count": 214,
   "id": "ade0f6ea",
   "metadata": {
    "tags": []
   },
   "outputs": [
    {
     "name": "stdout",
     "output_type": "stream",
     "text": [
      "96.1038961038961\n"
     ]
    }
   ],
   "source": [
    "more_calories = np.mean(calorie_stats > 60) * 100\n",
    "print(more_calories)"
   ]
  },
  {
   "cell_type": "markdown",
   "id": "1735d65b",
   "metadata": {},
   "source": [
    "7. Это действительно высокий процент. Это будет очень полезно, когда мы будем продвигать CrunchieMunchies. Но один вопрос заключается в том, насколько велики различия в наборе данных? Можем ли мы сделать обобщение, что в большинстве злаков содержится около 100 калорий или разброс еще больше?\n",
    "\n",
    "Рассчитайте величину отклонения, найдя стандартное отклонение, Сохраните свой ответ в calorie_std и распечатайте на терминале. Как мы можем включить эту ценность в наш анализ?"
   ]
  },
  {
   "cell_type": "code",
   "execution_count": 215,
   "id": "85c8df1f",
   "metadata": {
    "tags": []
   },
   "outputs": [
    {
     "name": "stdout",
     "output_type": "stream",
     "text": [
      "19.35718533390827\n"
     ]
    }
   ],
   "source": [
    "calorie_std = np.std(calorie_stats)\n",
    "print(calorie_std)\n",
    "# Можно использовать это значение чтобы понять насколько данные отличаются друг\n",
    "# от друга"
   ]
  },
  {
   "cell_type": "markdown",
   "id": "037455c5",
   "metadata": {},
   "source": [
    "8. Напишите короткий абзац, в котором кратко изложите свои выводы и то, как, по вашему мнению, эти данные могут быть использованы в интересах Mycrunch при маркетинге CrunchieMunchies."
   ]
  },
  {
   "cell_type": "code",
   "execution_count": 218,
   "id": "c260fee9",
   "metadata": {
    "tags": []
   },
   "outputs": [
    {
     "ename": "SyntaxError",
     "evalue": "invalid syntax (3312548873.py, line 2)",
     "output_type": "error",
     "traceback": [
      "\u001b[0;36m  Cell \u001b[0;32mIn[218], line 2\u001b[0;36m\u001b[0m\n\u001b[0;31m    обладают одной из самых низких колорийностей на рынке, обходя по этому\u001b[0m\n\u001b[0m             ^\u001b[0m\n\u001b[0;31mSyntaxError\u001b[0m\u001b[0;31m:\u001b[0m invalid syntax\n"
     ]
    }
   ],
   "source": [
    "Мы можем пострить маркетиноговую компанию вокруг того факта что CrunchieMunchies \n",
    "обладают одной из самых низких колорийностей на рынке, обходя по этому \n",
    "показателю более 90 процентов конкурентов."
   ]
  }
 ],
 "metadata": {
  "kernelspec": {
   "display_name": "Python 3 (ipykernel)",
   "language": "python",
   "name": "python3"
  },
  "language_info": {
   "codemirror_mode": {
    "name": "ipython",
    "version": 3
   },
   "file_extension": ".py",
   "mimetype": "text/x-python",
   "name": "python",
   "nbconvert_exporter": "python",
   "pygments_lexer": "ipython3",
   "version": "3.10.10"
  }
 },
 "nbformat": 4,
 "nbformat_minor": 5
}
